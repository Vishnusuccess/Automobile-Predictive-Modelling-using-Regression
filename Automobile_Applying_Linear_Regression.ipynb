{
  "cells": [
    {
      "attachments": {},
      "cell_type": "markdown",
      "metadata": {
        "id": "k6WB57q4x2go"
      },
      "source": [
        "# Applications of Regression"
      ]
    },
    {
      "attachments": {},
      "cell_type": "markdown",
      "metadata": {
        "id": "KSIIgVYnx2gy"
      },
      "source": [
        "## Load the dataset"
      ]
    },
    {
      "cell_type": "code",
      "execution_count": 1,
      "metadata": {
        "id": "ryhH_8yFx2gz"
      },
      "outputs": [],
      "source": [
        "import pandas as pd\n",
        "from sklearn import preprocessing\n",
        "import sklearn.model_selection as ms\n",
        "from sklearn import linear_model\n",
        "import sklearn.metrics as sklm\n",
        "import numpy as np\n",
        "import numpy.random as nr\n",
        "import matplotlib.pyplot as plt\n",
        "import seaborn as sns\n",
        "import scipy.stats as ss\n",
        "import math\n",
        "\n",
        "%matplotlib inline"
      ]
    },
    {
      "cell_type": "code",
      "execution_count": 2,
      "metadata": {
        "colab": {
          "base_uri": "https://localhost:8080/"
        },
        "id": "IVP_hnQe553c",
        "outputId": "88b2738a-8ad2-4445-a6bd-6df47d5e52c4"
      },
      "outputs": [
        {
          "name": "stdout",
          "output_type": "stream",
          "text": [
            "Mounted at /content/drive\n"
          ]
        }
      ],
      "source": [
        "from google.colab import drive\n",
        "drive.mount('/content/drive')\n",
        "root = '/content/drive/My Drive/Colab Notebooks/' #default for all\n",
        "\n",
        "path = root+'Module4 - Regression/'#(file location in gdrive)\n"
      ]
    },
    {
      "cell_type": "markdown",
      "metadata": {
        "id": "YP5FuVQj5ntC"
      },
      "source": []
    },
    {
      "cell_type": "markdown",
      "metadata": {
        "id": "hsPo9Yhhx2g0"
      },
      "source": [
        "The code in the cell below loads the dataset which was prepared using steps from the Data Preparation lab.Execute this code and ensure that the expected columns are present. "
      ]
    },
    {
      "cell_type": "code",
      "execution_count": 5,
      "metadata": {
        "colab": {
          "base_uri": "https://localhost:8080/"
        },
        "id": "vNk8LR67x2g0",
        "outputId": "48949867-94c6-4ba8-d685-dbca580abbfd"
      },
      "outputs": [
        {
          "data": {
            "text/plain": [
              "Index(['symboling', 'make', 'fuel_type', 'aspiration', 'num_of_doors',\n",
              "       'body_style', 'drive_wheels', 'engine_location', 'wheel_base', 'length',\n",
              "       'width', 'height', 'curb_weight', 'engine_type', 'num_of_cylinders',\n",
              "       'engine_size', 'fuel_system', 'bore', 'stroke', 'compression_ratio',\n",
              "       'horsepower', 'peak_rpm', 'city_mpg', 'highway_mpg', 'price',\n",
              "       'log_price'],\n",
              "      dtype='object')"
            ]
          },
          "execution_count": 5,
          "metadata": {},
          "output_type": "execute_result"
        }
      ],
      "source": [
        "df = pd.read_csv('Auto_Data_Preped.csv')\n",
        "df.columns"
      ]
    },
    {
      "cell_type": "code",
      "execution_count": 6,
      "metadata": {
        "colab": {
          "base_uri": "https://localhost:8080/"
        },
        "id": "Uqmq_hsR0GTO",
        "outputId": "8f881063-e86b-4f64-c08c-b8f1e69037f2"
      },
      "outputs": [
        {
          "name": "stderr",
          "output_type": "stream",
          "text": [
            "<ipython-input-6-9e0b1e29546f>:1: FutureWarning: Dropping of nuisance columns in DataFrame reductions (with 'numeric_only=None') is deprecated; in a future version this will raise TypeError.  Select only valid columns before calling the reduction.\n",
            "  df.skew()\n"
          ]
        },
        {
          "data": {
            "text/plain": [
              "symboling            0.213727\n",
              "wheel_base           0.985295\n",
              "length               0.140269\n",
              "width                0.867393\n",
              "height               0.033528\n",
              "curb_weight          0.678770\n",
              "engine_size          2.027883\n",
              "bore                -0.018909\n",
              "stroke              -0.761724\n",
              "compression_ratio    2.532037\n",
              "horsepower           1.143442\n",
              "peak_rpm             0.096658\n",
              "city_mpg             0.664775\n",
              "highway_mpg          0.524295\n",
              "price                1.776886\n",
              "log_price            0.674593\n",
              "dtype: float64"
            ]
          },
          "execution_count": 6,
          "metadata": {},
          "output_type": "execute_result"
        }
      ],
      "source": [
        "df.skew()"
      ]
    },
    {
      "cell_type": "code",
      "execution_count": 7,
      "metadata": {
        "colab": {
          "base_uri": "https://localhost:8080/",
          "height": 283
        },
        "id": "gnXzCVu30OSS",
        "outputId": "a09592a8-9727-4862-bad7-50053424b04d"
      },
      "outputs": [
        {
          "data": {
            "text/plain": [
              "<matplotlib.axes._subplots.AxesSubplot at 0x7fd6f9a9bf70>"
            ]
          },
          "execution_count": 7,
          "metadata": {},
          "output_type": "execute_result"
        },
        {
          "data": {
            "image/png": "[encoded data removed]",
            "text/plain": [
              "<Figure size 432x288 with 1 Axes>"
            ]
          },
          "metadata": {
            "needs_background": "light"
          },
          "output_type": "display_data"
        }
      ],
      "source": [
        "df['price'].hist()"
      ]
    },
    {
      "cell_type": "code",
      "execution_count": null,
      "metadata": {
        "colab": {
          "base_uri": "https://localhost:8080/",
          "height": 282
        },
        "id": "i7ezskzH0UcY",
        "outputId": "37c21cb9-85df-4575-ecc4-ddaa278d2614"
      },
      "outputs": [
        {
          "name": "stdout",
          "output_type": "stream",
          "text": [
            "0.6746673155897839\n"
          ]
        },
        {
          "data": {
            "image/png": "[encoded data removed]",
            "text/plain": [
              "<Figure size 432x288 with 1 Axes>"
            ]
          },
          "metadata": {
            "needs_background": "light",
            "tags": []
          },
          "output_type": "display_data"
        }
      ],
      "source": [
        "log_price = np.log1p(df.price)\n",
        "log_price.hist()\n",
        "print(log_price.skew())"
      ]
    },
    {
      "cell_type": "code",
      "execution_count": 8,
      "metadata": {
        "colab": {
          "base_uri": "https://localhost:8080/"
        },
        "id": "axcv6X25um63",
        "outputId": "fa0de4eb-5259-4b34-baf1-6e526a07763f"
      },
      "outputs": [
        {
          "data": {
            "text/plain": [
              "{'symboling': 0.0841176470533275,\n",
              " 'make': 0.023809523809523808,\n",
              " 'fuel_type': 0.16666666666666666,\n",
              " 'aspiration': 0.41666666666666663,\n",
              " 'num_of_doors': 0.2222222222222222,\n",
              " 'body_style': 0.45833333333333326,\n",
              " 'drive_wheels': 0.3333333333333333,\n",
              " 'engine_location': 0.16666666666666666,\n",
              " 'wheel_base': 0.5857928303921185,\n",
              " 'length': 0.6953308343938747,\n",
              " 'width': 0.7542733859108733,\n",
              " 'height': 0.13829068882904838,\n",
              " 'curb_weight': 0.835729341509727,\n",
              " 'engine_type': 0.06666666666666667,\n",
              " 'num_of_cylinders': 0.4444444444444444,\n",
              " 'engine_size': 0.8889422569129037,\n",
              " 'fuel_system': 0.14285714285714285,\n",
              " 'bore': 0.5468729166865851,\n",
              " 'stroke': 0.09374643867924778,\n",
              " 'compression_ratio': 0.06950020493406844,\n",
              " 'horsepower': 0.8110268356667207,\n",
              " 'peak_rpm': 0.10433339530640258,\n",
              " 'city_mpg': 0.7026848539940072,\n",
              " 'highway_mpg': 0.7155897581108311,\n",
              " 'price': 0.9999999999999999,\n",
              " 'log_price': 0.957443202289307}"
            ]
          },
          "execution_count": 8,
          "metadata": {},
          "output_type": "execute_result"
        }
      ],
      "source": [
        "def bin_check(y):\n",
        "  if y.dtype != 'O':\n",
        "    ival = y.describe().values[2]; #print(ival)\n",
        "    b = []\n",
        "    for i in range(0,int(max(y)),int(ival)):b.append(i); # print(b)\n",
        "    y_bin = pd.cut(y, bins=b,labels=[i for i in range(len(b)-1)])\n",
        "  else:\n",
        "    y_bin = y \n",
        "  return y_bin\n",
        "\n",
        "def feature_analysis(x,y):\n",
        "  x=x.dropna()\n",
        "  x['y']=bin_check(y)\n",
        "  feature_scores={}\n",
        "  for col in x.columns:\n",
        "    if col == 'y': continue \n",
        "    if x[col].dtype != 'O':\n",
        "      feature_scores[col]=abs(np.corrcoef(y,x[col])[0][1])\n",
        "\n",
        "    else:\n",
        "      gx = x.groupby([col,'y'])['y'].count()\n",
        "      gxr = gx/len(x)\n",
        "      fgx = gxr[gxr.values>0.05]\n",
        "\n",
        "      ix = fgx.index\n",
        "      clist={}\n",
        "      for c, yb in ix:\n",
        "        if c not in clist: clist[c] = []\n",
        "        clist[c].append(yb)\n",
        "      availability = len(clist)/len(x[col].unique())\n",
        "      penalty=[]\n",
        "      for k, v in clist.items():\n",
        "        penalty.append(1/len(v))\n",
        "      avg_penalty = np.mean(np.array(penalty))\n",
        "      ns = availability*avg_penalty\n",
        "      feature_scores[col]=ns\n",
        "  return feature_scores\n",
        "\n",
        "fs = feature_analysis(df,df.price)\n",
        "fs"
      ]
    },
    {
      "cell_type": "code",
      "execution_count": null,
      "metadata": {
        "colab": {
          "base_uri": "https://localhost:8080/"
        },
        "id": "WeJhfWcByVuB",
        "outputId": "e2b03cf7-d83c-4007-ab3d-76eaa7af5a82"
      },
      "outputs": [
        {
          "data": {
            "text/plain": [
              "0      hardtop_convert\n",
              "1      hardtop_convert\n",
              "2            hatchback\n",
              "3                sedan\n",
              "4                sedan\n",
              "            ...       \n",
              "190              sedan\n",
              "191              sedan\n",
              "192              sedan\n",
              "193              sedan\n",
              "194              sedan\n",
              "Name: body_style, Length: 195, dtype: object"
            ]
          },
          "execution_count": 5,
          "metadata": {
            "tags": []
          },
          "output_type": "execute_result"
        }
      ],
      "source": [
        "bin_check(df.body_style)"
      ]
    },
    {
      "cell_type": "code",
      "execution_count": 9,
      "metadata": {
        "colab": {
          "base_uri": "https://localhost:8080/",
          "height": 352
        },
        "id": "WywbHnbUx2g1",
        "outputId": "e87272f7-9b7e-485e-9b9b-edf2799355c4"
      },
      "outputs": [
        {
          "data": {
            "text/html": [
              "\n",
              "  <div id=\"df-9260602c-9ce8-436d-b78f-1bb3d25deb40\">\n",
              "    <div class=\"colab-df-container\">\n",
              "      <div>\n",
              "<style scoped>\n",
              "    .dataframe tbody tr th:only-of-type {\n",
              "        vertical-align: middle;\n",
              "    }\n",
              "\n",
              "    .dataframe tbody tr th {\n",
              "        vertical-align: top;\n",
              "    }\n",
              "\n",
              "    .dataframe thead th {\n",
              "        text-align: right;\n",
              "    }\n",
              "</style>\n",
              "<table border=\"1\" class=\"dataframe\">\n",
              "  <thead>\n",
              "    <tr style=\"text-align: right;\">\n",
              "      <th></th>\n",
              "      <th>symboling</th>\n",
              "      <th>make</th>\n",
              "      <th>fuel_type</th>\n",
              "      <th>aspiration</th>\n",
              "      <th>num_of_doors</th>\n",
              "      <th>body_style</th>\n",
              "      <th>drive_wheels</th>\n",
              "      <th>engine_location</th>\n",
              "      <th>wheel_base</th>\n",
              "      <th>length</th>\n",
              "      <th>...</th>\n",
              "      <th>fuel_system</th>\n",
              "      <th>bore</th>\n",
              "      <th>stroke</th>\n",
              "      <th>compression_ratio</th>\n",
              "      <th>horsepower</th>\n",
              "      <th>peak_rpm</th>\n",
              "      <th>city_mpg</th>\n",
              "      <th>highway_mpg</th>\n",
              "      <th>price</th>\n",
              "      <th>log_price</th>\n",
              "    </tr>\n",
              "  </thead>\n",
              "  <tbody>\n",
              "    <tr>\n",
              "      <th>0</th>\n",
              "      <td>3</td>\n",
              "      <td>alfa-romero</td>\n",
              "      <td>gas</td>\n",
              "      <td>std</td>\n",
              "      <td>two</td>\n",
              "      <td>hardtop_convert</td>\n",
              "      <td>rwd</td>\n",
              "      <td>front</td>\n",
              "      <td>88.6</td>\n",
              "      <td>168.8</td>\n",
              "      <td>...</td>\n",
              "      <td>mpfi</td>\n",
              "      <td>3.47</td>\n",
              "      <td>2.68</td>\n",
              "      <td>9.0</td>\n",
              "      <td>111</td>\n",
              "      <td>5000</td>\n",
              "      <td>21</td>\n",
              "      <td>27</td>\n",
              "      <td>13495</td>\n",
              "      <td>9.510075</td>\n",
              "    </tr>\n",
              "    <tr>\n",
              "      <th>1</th>\n",
              "      <td>3</td>\n",
              "      <td>alfa-romero</td>\n",
              "      <td>gas</td>\n",
              "      <td>std</td>\n",
              "      <td>two</td>\n",
              "      <td>hardtop_convert</td>\n",
              "      <td>rwd</td>\n",
              "      <td>front</td>\n",
              "      <td>88.6</td>\n",
              "      <td>168.8</td>\n",
              "      <td>...</td>\n",
              "      <td>mpfi</td>\n",
              "      <td>3.47</td>\n",
              "      <td>2.68</td>\n",
              "      <td>9.0</td>\n",
              "      <td>111</td>\n",
              "      <td>5000</td>\n",
              "      <td>21</td>\n",
              "      <td>27</td>\n",
              "      <td>16500</td>\n",
              "      <td>9.711116</td>\n",
              "    </tr>\n",
              "    <tr>\n",
              "      <th>2</th>\n",
              "      <td>1</td>\n",
              "      <td>alfa-romero</td>\n",
              "      <td>gas</td>\n",
              "      <td>std</td>\n",
              "      <td>two</td>\n",
              "      <td>hatchback</td>\n",
              "      <td>rwd</td>\n",
              "      <td>front</td>\n",
              "      <td>94.5</td>\n",
              "      <td>171.2</td>\n",
              "      <td>...</td>\n",
              "      <td>mpfi</td>\n",
              "      <td>2.68</td>\n",
              "      <td>3.47</td>\n",
              "      <td>9.0</td>\n",
              "      <td>154</td>\n",
              "      <td>5000</td>\n",
              "      <td>19</td>\n",
              "      <td>26</td>\n",
              "      <td>16500</td>\n",
              "      <td>9.711116</td>\n",
              "    </tr>\n",
              "    <tr>\n",
              "      <th>3</th>\n",
              "      <td>2</td>\n",
              "      <td>audi</td>\n",
              "      <td>gas</td>\n",
              "      <td>std</td>\n",
              "      <td>four</td>\n",
              "      <td>sedan</td>\n",
              "      <td>fwd</td>\n",
              "      <td>front</td>\n",
              "      <td>99.8</td>\n",
              "      <td>176.6</td>\n",
              "      <td>...</td>\n",
              "      <td>mpfi</td>\n",
              "      <td>3.19</td>\n",
              "      <td>3.40</td>\n",
              "      <td>10.0</td>\n",
              "      <td>102</td>\n",
              "      <td>5500</td>\n",
              "      <td>24</td>\n",
              "      <td>30</td>\n",
              "      <td>13950</td>\n",
              "      <td>9.543235</td>\n",
              "    </tr>\n",
              "    <tr>\n",
              "      <th>4</th>\n",
              "      <td>2</td>\n",
              "      <td>audi</td>\n",
              "      <td>gas</td>\n",
              "      <td>std</td>\n",
              "      <td>four</td>\n",
              "      <td>sedan</td>\n",
              "      <td>4wd</td>\n",
              "      <td>front</td>\n",
              "      <td>99.4</td>\n",
              "      <td>176.6</td>\n",
              "      <td>...</td>\n",
              "      <td>mpfi</td>\n",
              "      <td>3.19</td>\n",
              "      <td>3.40</td>\n",
              "      <td>8.0</td>\n",
              "      <td>115</td>\n",
              "      <td>5500</td>\n",
              "      <td>18</td>\n",
              "      <td>22</td>\n",
              "      <td>17450</td>\n",
              "      <td>9.767095</td>\n",
              "    </tr>\n",
              "  </tbody>\n",
              "</table>\n",
              "<p>5 rows × 26 columns</p>\n",
              "</div>\n",
              "      <button class=\"colab-df-convert\" onclick=\"convertToInteractive('df-9260602c-9ce8-436d-b78f-1bb3d25deb40')\"\n",
              "              title=\"Convert this dataframe to an interactive table.\"\n",
              "              style=\"display:none;\">\n",
              "        \n",
              "  <svg xmlns=\"http://www.w3.org/2000/svg\" height=\"24px\"viewBox=\"0 0 24 24\"\n",
              "       width=\"24px\">\n",
              "    <path d=\"M0 0h24v24H0V0z\" fill=\"none\"/>\n",
              "    <path d=\"M18.56 5.44l.94 2.06.94-2.06 2.06-.94-2.06-.94-.94-2.06-.94 2.06-2.06.94zm-11 1L8.5 8.5l.94-2.06 2.06-.94-2.06-.94L8.5 2.5l-.94 2.06-2.06.94zm10 10l.94 2.06.94-2.06 2.06-.94-2.06-.94-.94-2.06-.94 2.06-2.06.94z\"/><path d=\"M17.41 7.96l-1.37-1.37c-.4-.4-.92-.59-1.43-.59-.52 0-1.04.2-1.43.59L10.3 9.45l-7.72 7.72c-.78.78-.78 2.05 0 2.83L4 21.41c.39.39.9.59 1.41.59.51 0 1.02-.2 1.41-.59l7.78-7.78 2.81-2.81c.8-.78.8-2.07 0-2.86zM5.41 20L4 18.59l7.72-7.72 1.47 1.35L5.41 20z\"/>\n",
              "  </svg>\n",
              "      </button>\n",
              "      \n",
              "  <style>\n",
              "    .colab-df-container {\n",
              "      display:flex;\n",
              "      flex-wrap:wrap;\n",
              "      gap: 12px;\n",
              "    }\n",
              "\n",
              "    .colab-df-convert {\n",
              "      background-color: #E8F0FE;\n",
              "      border: none;\n",
              "      border-radius: 50%;\n",
              "      cursor: pointer;\n",
              "      display: none;\n",
              "      fill: #1967D2;\n",
              "      height: 32px;\n",
              "      padding: 0 0 0 0;\n",
              "      width: 32px;\n",
              "    }\n",
              "\n",
              "    .colab-df-convert:hover {\n",
              "      background-color: #E2EBFA;\n",
              "      box-shadow: 0px 1px 2px rgba(60, 64, 67, 0.3), 0px 1px 3px 1px rgba(60, 64, 67, 0.15);\n",
              "      fill: #174EA6;\n",
              "    }\n",
              "\n",
              "    [theme=dark] .colab-df-convert {\n",
              "      background-color: #3B4455;\n",
              "      fill: #D2E3FC;\n",
              "    }\n",
              "\n",
              "    [theme=dark] .colab-df-convert:hover {\n",
              "      background-color: #434B5C;\n",
              "      box-shadow: 0px 1px 3px 1px rgba(0, 0, 0, 0.15);\n",
              "      filter: drop-shadow(0px 1px 2px rgba(0, 0, 0, 0.3));\n",
              "      fill: #FFFFFF;\n",
              "    }\n",
              "  </style>\n",
              "\n",
              "      <script>\n",
              "        const buttonEl =\n",
              "          document.querySelector('#df-9260602c-9ce8-436d-b78f-1bb3d25deb40 button.colab-df-convert');\n",
              "        buttonEl.style.display =\n",
              "          google.colab.kernel.accessAllowed ? 'block' : 'none';\n",
              "\n",
              "        async function convertToInteractive(key) {\n",
              "          const element = document.querySelector('#df-9260602c-9ce8-436d-b78f-1bb3d25deb40');\n",
              "          const dataTable =\n",
              "            await google.colab.kernel.invokeFunction('convertToInteractive',\n",
              "                                                     [key], {});\n",
              "          if (!dataTable) return;\n",
              "\n",
              "          const docLinkHtml = 'Like what you see? Visit the ' +\n",
              "            '<a target=\"_blank\" href=https://colab.research.google.com/notebooks/data_table.ipynb>data table notebook</a>'\n",
              "            + ' to learn more about interactive tables.';\n",
              "          element.innerHTML = '';\n",
              "          dataTable['output_type'] = 'display_data';\n",
              "          await google.colab.output.renderOutput(dataTable, element);\n",
              "          const docLink = document.createElement('div');\n",
              "          docLink.innerHTML = docLinkHtml;\n",
              "          element.appendChild(docLink);\n",
              "        }\n",
              "      </script>\n",
              "    </div>\n",
              "  </div>\n",
              "  "
            ],
            "text/plain": [
              "   symboling         make fuel_type aspiration num_of_doors       body_style  \\\n",
              "0          3  alfa-romero       gas        std          two  hardtop_convert   \n",
              "1          3  alfa-romero       gas        std          two  hardtop_convert   \n",
              "2          1  alfa-romero       gas        std          two        hatchback   \n",
              "3          2         audi       gas        std         four            sedan   \n",
              "4          2         audi       gas        std         four            sedan   \n",
              "\n",
              "  drive_wheels engine_location  wheel_base  length  ...  fuel_system  bore  \\\n",
              "0          rwd           front        88.6   168.8  ...         mpfi  3.47   \n",
              "1          rwd           front        88.6   168.8  ...         mpfi  3.47   \n",
              "2          rwd           front        94.5   171.2  ...         mpfi  2.68   \n",
              "3          fwd           front        99.8   176.6  ...         mpfi  3.19   \n",
              "4          4wd           front        99.4   176.6  ...         mpfi  3.19   \n",
              "\n",
              "   stroke compression_ratio horsepower  peak_rpm city_mpg  highway_mpg  price  \\\n",
              "0    2.68               9.0        111      5000       21           27  13495   \n",
              "1    2.68               9.0        111      5000       21           27  16500   \n",
              "2    3.47               9.0        154      5000       19           26  16500   \n",
              "3    3.40              10.0        102      5500       24           30  13950   \n",
              "4    3.40               8.0        115      5500       18           22  17450   \n",
              "\n",
              "   log_price  \n",
              "0   9.510075  \n",
              "1   9.711116  \n",
              "2   9.711116  \n",
              "3   9.543235  \n",
              "4   9.767095  \n",
              "\n",
              "[5 rows x 26 columns]"
            ]
          },
          "execution_count": 9,
          "metadata": {},
          "output_type": "execute_result"
        }
      ],
      "source": [
        "df.head()"
      ]
    },
    {
      "cell_type": "markdown",
      "metadata": {
        "id": "27qZ0SkHx2g1"
      },
      "source": [
        "Notice that there are both numeric and categorical features. "
      ]
    },
    {
      "cell_type": "code",
      "execution_count": 10,
      "metadata": {
        "colab": {
          "base_uri": "https://localhost:8080/"
        },
        "id": "g8ryynprBtOI",
        "outputId": "04557e51-dbad-4870-c8cb-e0dc06de0d88"
      },
      "outputs": [
        {
          "data": {
            "text/plain": [
              "9.510074525452104"
            ]
          },
          "execution_count": 10,
          "metadata": {},
          "output_type": "execute_result"
        }
      ],
      "source": [
        "from math import log, log10, log2, log1p\n",
        "log(13495)"
      ]
    },
    {
      "cell_type": "code",
      "execution_count": 11,
      "metadata": {
        "colab": {
          "base_uri": "https://localhost:8080/",
          "height": 265
        },
        "id": "_GBkGtltCtfH",
        "outputId": "15a06d56-8e13-46f9-bae9-b71ca6cadd0c"
      },
      "outputs": [
        {
          "data": {
            "image/png": "[encoded data removed]",
            "text/plain": [
              "<Figure size 432x288 with 1 Axes>"
            ]
          },
          "metadata": {
            "needs_background": "light"
          },
          "output_type": "display_data"
        }
      ],
      "source": [
        "lx = np.array([4,12,30,57,124,201,400])\n",
        "plt.plot(lx)\n",
        "plt.show()"
      ]
    },
    {
      "cell_type": "code",
      "execution_count": 12,
      "metadata": {
        "colab": {
          "base_uri": "https://localhost:8080/",
          "height": 301
        },
        "id": "YksaYCmNEg7N",
        "outputId": "ca0e51b8-e030-43bb-8619-594b6e9a1f44"
      },
      "outputs": [
        {
          "name": "stdout",
          "output_type": "stream",
          "text": [
            "[1.38629436 2.48490665 3.40119738 4.04305127 4.82028157 5.30330491\n",
            " 5.99146455]\n"
          ]
        },
        {
          "data": {
            "image/png": "[encoded data removed]",
            "text/plain": [
              "<Figure size 432x288 with 1 Axes>"
            ]
          },
          "metadata": {
            "needs_background": "light"
          },
          "output_type": "display_data"
        }
      ],
      "source": [
        "lxlog = np.log(lx)\n",
        "print(lxlog)\n",
        "plt.plot(lxlog)\n",
        "plt.show()"
      ]
    },
    {
      "cell_type": "code",
      "execution_count": 13,
      "metadata": {
        "colab": {
          "base_uri": "https://localhost:8080/"
        },
        "id": "iE9l1OR3F9jy",
        "outputId": "e1fde302-c2ad-48b9-cf1f-a3cee91a45e6"
      },
      "outputs": [
        {
          "data": {
            "text/plain": [
              "array([  4.,  12.,  30.,  57., 124., 201., 400.])"
            ]
          },
          "execution_count": 13,
          "metadata": {},
          "output_type": "execute_result"
        }
      ],
      "source": [
        "np.exp(lxlog)"
      ]
    },
    {
      "cell_type": "code",
      "execution_count": 14,
      "metadata": {
        "colab": {
          "base_uri": "https://localhost:8080/",
          "height": 364
        },
        "id": "TsBdJ0L1aPFS",
        "outputId": "f3686560-6718-4478-b94c-43a8b0e03a62"
      },
      "outputs": [
        {
          "data": {
            "text/html": [
              "\n",
              "  <div id=\"df-f0be13b9-9490-40b5-92bd-44363fd1d3fa\">\n",
              "    <div class=\"colab-df-container\">\n",
              "      <div>\n",
              "<style scoped>\n",
              "    .dataframe tbody tr th:only-of-type {\n",
              "        vertical-align: middle;\n",
              "    }\n",
              "\n",
              "    .dataframe tbody tr th {\n",
              "        vertical-align: top;\n",
              "    }\n",
              "\n",
              "    .dataframe thead th {\n",
              "        text-align: right;\n",
              "    }\n",
              "</style>\n",
              "<table border=\"1\" class=\"dataframe\">\n",
              "  <thead>\n",
              "    <tr style=\"text-align: right;\">\n",
              "      <th></th>\n",
              "      <th>symboling</th>\n",
              "      <th>wheel_base</th>\n",
              "      <th>length</th>\n",
              "      <th>width</th>\n",
              "      <th>height</th>\n",
              "      <th>curb_weight</th>\n",
              "      <th>engine_size</th>\n",
              "      <th>bore</th>\n",
              "      <th>stroke</th>\n",
              "      <th>compression_ratio</th>\n",
              "      <th>horsepower</th>\n",
              "      <th>peak_rpm</th>\n",
              "      <th>city_mpg</th>\n",
              "      <th>highway_mpg</th>\n",
              "      <th>price</th>\n",
              "      <th>log_price</th>\n",
              "    </tr>\n",
              "  </thead>\n",
              "  <tbody>\n",
              "    <tr>\n",
              "      <th>count</th>\n",
              "      <td>195.000000</td>\n",
              "      <td>195.000000</td>\n",
              "      <td>195.000000</td>\n",
              "      <td>195.000000</td>\n",
              "      <td>195.000000</td>\n",
              "      <td>195.000000</td>\n",
              "      <td>195.000000</td>\n",
              "      <td>195.000000</td>\n",
              "      <td>195.000000</td>\n",
              "      <td>195.000000</td>\n",
              "      <td>195.000000</td>\n",
              "      <td>195.000000</td>\n",
              "      <td>195.000000</td>\n",
              "      <td>195.000000</td>\n",
              "      <td>195.000000</td>\n",
              "      <td>195.000000</td>\n",
              "    </tr>\n",
              "    <tr>\n",
              "      <th>mean</th>\n",
              "      <td>0.794872</td>\n",
              "      <td>98.896410</td>\n",
              "      <td>174.256923</td>\n",
              "      <td>65.886154</td>\n",
              "      <td>53.861538</td>\n",
              "      <td>2559.000000</td>\n",
              "      <td>127.938462</td>\n",
              "      <td>3.329385</td>\n",
              "      <td>3.250308</td>\n",
              "      <td>10.194974</td>\n",
              "      <td>103.271795</td>\n",
              "      <td>5099.487179</td>\n",
              "      <td>25.374359</td>\n",
              "      <td>30.841026</td>\n",
              "      <td>13248.015385</td>\n",
              "      <td>9.349624</td>\n",
              "    </tr>\n",
              "    <tr>\n",
              "      <th>std</th>\n",
              "      <td>1.230612</td>\n",
              "      <td>6.132038</td>\n",
              "      <td>12.476443</td>\n",
              "      <td>2.132484</td>\n",
              "      <td>2.396778</td>\n",
              "      <td>524.715799</td>\n",
              "      <td>41.433916</td>\n",
              "      <td>0.271866</td>\n",
              "      <td>0.314115</td>\n",
              "      <td>4.062109</td>\n",
              "      <td>37.869730</td>\n",
              "      <td>468.271381</td>\n",
              "      <td>6.401382</td>\n",
              "      <td>6.829315</td>\n",
              "      <td>8056.330093</td>\n",
              "      <td>0.508971</td>\n",
              "    </tr>\n",
              "    <tr>\n",
              "      <th>min</th>\n",
              "      <td>-2.000000</td>\n",
              "      <td>86.600000</td>\n",
              "      <td>141.100000</td>\n",
              "      <td>60.300000</td>\n",
              "      <td>47.800000</td>\n",
              "      <td>1488.000000</td>\n",
              "      <td>61.000000</td>\n",
              "      <td>2.540000</td>\n",
              "      <td>2.070000</td>\n",
              "      <td>7.000000</td>\n",
              "      <td>48.000000</td>\n",
              "      <td>4150.000000</td>\n",
              "      <td>13.000000</td>\n",
              "      <td>16.000000</td>\n",
              "      <td>5118.000000</td>\n",
              "      <td>8.540519</td>\n",
              "    </tr>\n",
              "    <tr>\n",
              "      <th>25%</th>\n",
              "      <td>0.000000</td>\n",
              "      <td>94.500000</td>\n",
              "      <td>166.300000</td>\n",
              "      <td>64.050000</td>\n",
              "      <td>52.000000</td>\n",
              "      <td>2145.000000</td>\n",
              "      <td>98.000000</td>\n",
              "      <td>3.150000</td>\n",
              "      <td>3.110000</td>\n",
              "      <td>8.500000</td>\n",
              "      <td>70.000000</td>\n",
              "      <td>4800.000000</td>\n",
              "      <td>19.500000</td>\n",
              "      <td>25.000000</td>\n",
              "      <td>7756.500000</td>\n",
              "      <td>8.956284</td>\n",
              "    </tr>\n",
              "    <tr>\n",
              "      <th>50%</th>\n",
              "      <td>1.000000</td>\n",
              "      <td>97.000000</td>\n",
              "      <td>173.200000</td>\n",
              "      <td>65.400000</td>\n",
              "      <td>54.100000</td>\n",
              "      <td>2414.000000</td>\n",
              "      <td>120.000000</td>\n",
              "      <td>3.310000</td>\n",
              "      <td>3.290000</td>\n",
              "      <td>9.000000</td>\n",
              "      <td>95.000000</td>\n",
              "      <td>5100.000000</td>\n",
              "      <td>25.000000</td>\n",
              "      <td>30.000000</td>\n",
              "      <td>10245.000000</td>\n",
              "      <td>9.234545</td>\n",
              "    </tr>\n",
              "    <tr>\n",
              "      <th>75%</th>\n",
              "      <td>2.000000</td>\n",
              "      <td>102.400000</td>\n",
              "      <td>184.050000</td>\n",
              "      <td>66.900000</td>\n",
              "      <td>55.650000</td>\n",
              "      <td>2943.500000</td>\n",
              "      <td>145.500000</td>\n",
              "      <td>3.590000</td>\n",
              "      <td>3.410000</td>\n",
              "      <td>9.400000</td>\n",
              "      <td>116.000000</td>\n",
              "      <td>5500.000000</td>\n",
              "      <td>30.000000</td>\n",
              "      <td>35.000000</td>\n",
              "      <td>16509.000000</td>\n",
              "      <td>9.711661</td>\n",
              "    </tr>\n",
              "    <tr>\n",
              "      <th>max</th>\n",
              "      <td>3.000000</td>\n",
              "      <td>120.900000</td>\n",
              "      <td>208.100000</td>\n",
              "      <td>72.000000</td>\n",
              "      <td>59.800000</td>\n",
              "      <td>4066.000000</td>\n",
              "      <td>326.000000</td>\n",
              "      <td>3.940000</td>\n",
              "      <td>4.170000</td>\n",
              "      <td>23.000000</td>\n",
              "      <td>262.000000</td>\n",
              "      <td>6600.000000</td>\n",
              "      <td>49.000000</td>\n",
              "      <td>54.000000</td>\n",
              "      <td>45400.000000</td>\n",
              "      <td>10.723267</td>\n",
              "    </tr>\n",
              "  </tbody>\n",
              "</table>\n",
              "</div>\n",
              "      <button class=\"colab-df-convert\" onclick=\"convertToInteractive('df-f0be13b9-9490-40b5-92bd-44363fd1d3fa')\"\n",
              "              title=\"Convert this dataframe to an interactive table.\"\n",
              "              style=\"display:none;\">\n",
              "        \n",
              "  <svg xmlns=\"http://www.w3.org/2000/svg\" height=\"24px\"viewBox=\"0 0 24 24\"\n",
              "       width=\"24px\">\n",
              "    <path d=\"M0 0h24v24H0V0z\" fill=\"none\"/>\n",
              "    <path d=\"M18.56 5.44l.94 2.06.94-2.06 2.06-.94-2.06-.94-.94-2.06-.94 2.06-2.06.94zm-11 1L8.5 8.5l.94-2.06 2.06-.94-2.06-.94L8.5 2.5l-.94 2.06-2.06.94zm10 10l.94 2.06.94-2.06 2.06-.94-2.06-.94-.94-2.06-.94 2.06-2.06.94z\"/><path d=\"M17.41 7.96l-1.37-1.37c-.4-.4-.92-.59-1.43-.59-.52 0-1.04.2-1.43.59L10.3 9.45l-7.72 7.72c-.78.78-.78 2.05 0 2.83L4 21.41c.39.39.9.59 1.41.59.51 0 1.02-.2 1.41-.59l7.78-7.78 2.81-2.81c.8-.78.8-2.07 0-2.86zM5.41 20L4 18.59l7.72-7.72 1.47 1.35L5.41 20z\"/>\n",
              "  </svg>\n",
              "      </button>\n",
              "      \n",
              "  <style>\n",
              "    .colab-df-container {\n",
              "      display:flex;\n",
              "      flex-wrap:wrap;\n",
              "      gap: 12px;\n",
              "    }\n",
              "\n",
              "    .colab-df-convert {\n",
              "      background-color: #E8F0FE;\n",
              "      border: none;\n",
              "      border-radius: 50%;\n",
              "      cursor: pointer;\n",
              "      display: none;\n",
              "      fill: #1967D2;\n",
              "      height: 32px;\n",
              "      padding: 0 0 0 0;\n",
              "      width: 32px;\n",
              "    }\n",
              "\n",
              "    .colab-df-convert:hover {\n",
              "      background-color: #E2EBFA;\n",
              "      box-shadow: 0px 1px 2px rgba(60, 64, 67, 0.3), 0px 1px 3px 1px rgba(60, 64, 67, 0.15);\n",
              "      fill: #174EA6;\n",
              "    }\n",
              "\n",
              "    [theme=dark] .colab-df-convert {\n",
              "      background-color: #3B4455;\n",
              "      fill: #D2E3FC;\n",
              "    }\n",
              "\n",
              "    [theme=dark] .colab-df-convert:hover {\n",
              "      background-color: #434B5C;\n",
              "      box-shadow: 0px 1px 3px 1px rgba(0, 0, 0, 0.15);\n",
              "      filter: drop-shadow(0px 1px 2px rgba(0, 0, 0, 0.3));\n",
              "      fill: #FFFFFF;\n",
              "    }\n",
              "  </style>\n",
              "\n",
              "      <script>\n",
              "        const buttonEl =\n",
              "          document.querySelector('#df-f0be13b9-9490-40b5-92bd-44363fd1d3fa button.colab-df-convert');\n",
              "        buttonEl.style.display =\n",
              "          google.colab.kernel.accessAllowed ? 'block' : 'none';\n",
              "\n",
              "        async function convertToInteractive(key) {\n",
              "          const element = document.querySelector('#df-f0be13b9-9490-40b5-92bd-44363fd1d3fa');\n",
              "          const dataTable =\n",
              "            await google.colab.kernel.invokeFunction('convertToInteractive',\n",
              "                                                     [key], {});\n",
              "          if (!dataTable) return;\n",
              "\n",
              "          const docLinkHtml = 'Like what you see? Visit the ' +\n",
              "            '<a target=\"_blank\" href=https://colab.research.google.com/notebooks/data_table.ipynb>data table notebook</a>'\n",
              "            + ' to learn more about interactive tables.';\n",
              "          element.innerHTML = '';\n",
              "          dataTable['output_type'] = 'display_data';\n",
              "          await google.colab.output.renderOutput(dataTable, element);\n",
              "          const docLink = document.createElement('div');\n",
              "          docLink.innerHTML = docLinkHtml;\n",
              "          element.appendChild(docLink);\n",
              "        }\n",
              "      </script>\n",
              "    </div>\n",
              "  </div>\n",
              "  "
            ],
            "text/plain": [
              "        symboling  wheel_base      length       width      height  \\\n",
              "count  195.000000  195.000000  195.000000  195.000000  195.000000   \n",
              "mean     0.794872   98.896410  174.256923   65.886154   53.861538   \n",
              "std      1.230612    6.132038   12.476443    2.132484    2.396778   \n",
              "min     -2.000000   86.600000  141.100000   60.300000   47.800000   \n",
              "25%      0.000000   94.500000  166.300000   64.050000   52.000000   \n",
              "50%      1.000000   97.000000  173.200000   65.400000   54.100000   \n",
              "75%      2.000000  102.400000  184.050000   66.900000   55.650000   \n",
              "max      3.000000  120.900000  208.100000   72.000000   59.800000   \n",
              "\n",
              "       curb_weight  engine_size        bore      stroke  compression_ratio  \\\n",
              "count   195.000000   195.000000  195.000000  195.000000         195.000000   \n",
              "mean   2559.000000   127.938462    3.329385    3.250308          10.194974   \n",
              "std     524.715799    41.433916    0.271866    0.314115           4.062109   \n",
              "min    1488.000000    61.000000    2.540000    2.070000           7.000000   \n",
              "25%    2145.000000    98.000000    3.150000    3.110000           8.500000   \n",
              "50%    2414.000000   120.000000    3.310000    3.290000           9.000000   \n",
              "75%    2943.500000   145.500000    3.590000    3.410000           9.400000   \n",
              "max    4066.000000   326.000000    3.940000    4.170000          23.000000   \n",
              "\n",
              "       horsepower     peak_rpm    city_mpg  highway_mpg         price  \\\n",
              "count  195.000000   195.000000  195.000000   195.000000    195.000000   \n",
              "mean   103.271795  5099.487179   25.374359    30.841026  13248.015385   \n",
              "std     37.869730   468.271381    6.401382     6.829315   8056.330093   \n",
              "min     48.000000  4150.000000   13.000000    16.000000   5118.000000   \n",
              "25%     70.000000  4800.000000   19.500000    25.000000   7756.500000   \n",
              "50%     95.000000  5100.000000   25.000000    30.000000  10245.000000   \n",
              "75%    116.000000  5500.000000   30.000000    35.000000  16509.000000   \n",
              "max    262.000000  6600.000000   49.000000    54.000000  45400.000000   \n",
              "\n",
              "        log_price  \n",
              "count  195.000000  \n",
              "mean     9.349624  \n",
              "std      0.508971  \n",
              "min      8.540519  \n",
              "25%      8.956284  \n",
              "50%      9.234545  \n",
              "75%      9.711661  \n",
              "max     10.723267  "
            ]
          },
          "execution_count": 14,
          "metadata": {},
          "output_type": "execute_result"
        }
      ],
      "source": [
        "df.describe()"
      ]
    },
    {
      "cell_type": "code",
      "execution_count": 15,
      "metadata": {
        "colab": {
          "base_uri": "https://localhost:8080/",
          "height": 239
        },
        "id": "9mHR6__PdOKg",
        "outputId": "661ee1af-f3af-4dad-b0cc-23d7d1492ec2"
      },
      "outputs": [
        {
          "data": {
            "text/html": [
              "\n",
              "  <div id=\"df-dd6e67ab-ea35-44c1-8a9d-a3a72d146d71\">\n",
              "    <div class=\"colab-df-container\">\n",
              "      <div>\n",
              "<style scoped>\n",
              "    .dataframe tbody tr th:only-of-type {\n",
              "        vertical-align: middle;\n",
              "    }\n",
              "\n",
              "    .dataframe tbody tr th {\n",
              "        vertical-align: top;\n",
              "    }\n",
              "\n",
              "    .dataframe thead th {\n",
              "        text-align: right;\n",
              "    }\n",
              "</style>\n",
              "<table border=\"1\" class=\"dataframe\">\n",
              "  <thead>\n",
              "    <tr style=\"text-align: right;\">\n",
              "      <th></th>\n",
              "      <th>make</th>\n",
              "      <th>fuel_type</th>\n",
              "      <th>aspiration</th>\n",
              "      <th>num_of_doors</th>\n",
              "      <th>body_style</th>\n",
              "      <th>drive_wheels</th>\n",
              "      <th>engine_location</th>\n",
              "      <th>engine_type</th>\n",
              "      <th>num_of_cylinders</th>\n",
              "      <th>fuel_system</th>\n",
              "    </tr>\n",
              "  </thead>\n",
              "  <tbody>\n",
              "    <tr>\n",
              "      <th>count</th>\n",
              "      <td>195</td>\n",
              "      <td>195</td>\n",
              "      <td>195</td>\n",
              "      <td>195</td>\n",
              "      <td>195</td>\n",
              "      <td>195</td>\n",
              "      <td>195</td>\n",
              "      <td>195</td>\n",
              "      <td>195</td>\n",
              "      <td>195</td>\n",
              "    </tr>\n",
              "    <tr>\n",
              "      <th>unique</th>\n",
              "      <td>21</td>\n",
              "      <td>2</td>\n",
              "      <td>2</td>\n",
              "      <td>3</td>\n",
              "      <td>4</td>\n",
              "      <td>3</td>\n",
              "      <td>2</td>\n",
              "      <td>5</td>\n",
              "      <td>3</td>\n",
              "      <td>7</td>\n",
              "    </tr>\n",
              "    <tr>\n",
              "      <th>top</th>\n",
              "      <td>toyota</td>\n",
              "      <td>gas</td>\n",
              "      <td>std</td>\n",
              "      <td>four</td>\n",
              "      <td>sedan</td>\n",
              "      <td>fwd</td>\n",
              "      <td>front</td>\n",
              "      <td>ohc</td>\n",
              "      <td>three_four</td>\n",
              "      <td>mpfi</td>\n",
              "    </tr>\n",
              "    <tr>\n",
              "      <th>freq</th>\n",
              "      <td>32</td>\n",
              "      <td>175</td>\n",
              "      <td>159</td>\n",
              "      <td>112</td>\n",
              "      <td>94</td>\n",
              "      <td>116</td>\n",
              "      <td>192</td>\n",
              "      <td>143</td>\n",
              "      <td>156</td>\n",
              "      <td>89</td>\n",
              "    </tr>\n",
              "  </tbody>\n",
              "</table>\n",
              "</div>\n",
              "      <button class=\"colab-df-convert\" onclick=\"convertToInteractive('df-dd6e67ab-ea35-44c1-8a9d-a3a72d146d71')\"\n",
              "              title=\"Convert this dataframe to an interactive table.\"\n",
              "              style=\"display:none;\">\n",
              "        \n",
              "  <svg xmlns=\"http://www.w3.org/2000/svg\" height=\"24px\"viewBox=\"0 0 24 24\"\n",
              "       width=\"24px\">\n",
              "    <path d=\"M0 0h24v24H0V0z\" fill=\"none\"/>\n",
              "    <path d=\"M18.56 5.44l.94 2.06.94-2.06 2.06-.94-2.06-.94-.94-2.06-.94 2.06-2.06.94zm-11 1L8.5 8.5l.94-2.06 2.06-.94-2.06-.94L8.5 2.5l-.94 2.06-2.06.94zm10 10l.94 2.06.94-2.06 2.06-.94-2.06-.94-.94-2.06-.94 2.06-2.06.94z\"/><path d=\"M17.41 7.96l-1.37-1.37c-.4-.4-.92-.59-1.43-.59-.52 0-1.04.2-1.43.59L10.3 9.45l-7.72 7.72c-.78.78-.78 2.05 0 2.83L4 21.41c.39.39.9.59 1.41.59.51 0 1.02-.2 1.41-.59l7.78-7.78 2.81-2.81c.8-.78.8-2.07 0-2.86zM5.41 20L4 18.59l7.72-7.72 1.47 1.35L5.41 20z\"/>\n",
              "  </svg>\n",
              "      </button>\n",
              "      \n",
              "  <style>\n",
              "    .colab-df-container {\n",
              "      display:flex;\n",
              "      flex-wrap:wrap;\n",
              "      gap: 12px;\n",
              "    }\n",
              "\n",
              "    .colab-df-convert {\n",
              "      background-color: #E8F0FE;\n",
              "      border: none;\n",
              "      border-radius: 50%;\n",
              "      cursor: pointer;\n",
              "      display: none;\n",
              "      fill: #1967D2;\n",
              "      height: 32px;\n",
              "      padding: 0 0 0 0;\n",
              "      width: 32px;\n",
              "    }\n",
              "\n",
              "    .colab-df-convert:hover {\n",
              "      background-color: #E2EBFA;\n",
              "      box-shadow: 0px 1px 2px rgba(60, 64, 67, 0.3), 0px 1px 3px 1px rgba(60, 64, 67, 0.15);\n",
              "      fill: #174EA6;\n",
              "    }\n",
              "\n",
              "    [theme=dark] .colab-df-convert {\n",
              "      background-color: #3B4455;\n",
              "      fill: #D2E3FC;\n",
              "    }\n",
              "\n",
              "    [theme=dark] .colab-df-convert:hover {\n",
              "      background-color: #434B5C;\n",
              "      box-shadow: 0px 1px 3px 1px rgba(0, 0, 0, 0.15);\n",
              "      filter: drop-shadow(0px 1px 2px rgba(0, 0, 0, 0.3));\n",
              "      fill: #FFFFFF;\n",
              "    }\n",
              "  </style>\n",
              "\n",
              "      <script>\n",
              "        const buttonEl =\n",
              "          document.querySelector('#df-dd6e67ab-ea35-44c1-8a9d-a3a72d146d71 button.colab-df-convert');\n",
              "        buttonEl.style.display =\n",
              "          google.colab.kernel.accessAllowed ? 'block' : 'none';\n",
              "\n",
              "        async function convertToInteractive(key) {\n",
              "          const element = document.querySelector('#df-dd6e67ab-ea35-44c1-8a9d-a3a72d146d71');\n",
              "          const dataTable =\n",
              "            await google.colab.kernel.invokeFunction('convertToInteractive',\n",
              "                                                     [key], {});\n",
              "          if (!dataTable) return;\n",
              "\n",
              "          const docLinkHtml = 'Like what you see? Visit the ' +\n",
              "            '<a target=\"_blank\" href=https://colab.research.google.com/notebooks/data_table.ipynb>data table notebook</a>'\n",
              "            + ' to learn more about interactive tables.';\n",
              "          element.innerHTML = '';\n",
              "          dataTable['output_type'] = 'display_data';\n",
              "          await google.colab.output.renderOutput(dataTable, element);\n",
              "          const docLink = document.createElement('div');\n",
              "          docLink.innerHTML = docLinkHtml;\n",
              "          element.appendChild(docLink);\n",
              "        }\n",
              "      </script>\n",
              "    </div>\n",
              "  </div>\n",
              "  "
            ],
            "text/plain": [
              "          make fuel_type aspiration num_of_doors body_style drive_wheels  \\\n",
              "count      195       195        195          195        195          195   \n",
              "unique      21         2          2            3          4            3   \n",
              "top     toyota       gas        std         four      sedan          fwd   \n",
              "freq        32       175        159          112         94          116   \n",
              "\n",
              "       engine_location engine_type num_of_cylinders fuel_system  \n",
              "count              195         195              195         195  \n",
              "unique               2           5                3           7  \n",
              "top              front         ohc       three_four        mpfi  \n",
              "freq               192         143              156          89  "
            ]
          },
          "execution_count": 15,
          "metadata": {},
          "output_type": "execute_result"
        }
      ],
      "source": [
        "\n",
        "df.describe(include=\"object\")"
      ]
    },
    {
      "cell_type": "code",
      "execution_count": 16,
      "metadata": {
        "colab": {
          "base_uri": "https://localhost:8080/"
        },
        "id": "nBVN0U9Vjg0_",
        "outputId": "3e4adcaf-b65f-4b52-b029-433ce16b78fe"
      },
      "outputs": [
        {
          "name": "stdout",
          "output_type": "stream",
          "text": [
            "[[1.         0.85274745]\n",
            " [0.85274745 1.        ]]\n",
            "0.8527474546090629\n"
          ]
        }
      ],
      "source": [
        "cc = np.corrcoef(df.log_price,df.engine_size)\n",
        "print(cc)\n",
        "print(cc[0][1])"
      ]
    },
    {
      "attachments": {},
      "cell_type": "markdown",
      "metadata": {
        "id": "W8-Ho9wUx2g2"
      },
      "source": [
        "## Prepare the model matrix.\n",
        "\n",
        "All scikit-learn models require a numpy array of numeric only values for the features. The resulting array is often referred to as the **model matrix**.  "
      ]
    },
    {
      "attachments": {},
      "cell_type": "markdown",
      "metadata": {
        "id": "BEGLcpFXx2g2"
      },
      "source": [
        "### Create dummy variables from categorical features\n",
        "\n",
        " There is one dummy variable for each possible category. For each case all of the values in the dummy variables are set to zero, except the one corresponding to the category value, which is set to one. In this way, a categorical variable with any number of categories can be encoded as series of numeric features which scikit-learn can operate on. This process is referred to as **one hot encoding** since only one dummy variable is coded as 1 (hot) per case. \n",
        "\n",
        "The `sklearn.preprocessing` package contains functions to encode categorical features as dummy variables in two steps;\n",
        "1. The categories are  encoded as numbers starting with 0.\n",
        "2. The numeric categories are then encoded as dummy variables. \n",
        "\n",
        "The following example will give you a feel for how this process works. The code in the cell below computes the numeric representation of the categories for the `body_style` feature by the following steps:\n",
        "\n",
        "1. An encoder object is created using the `LabelEncoder` method.\n",
        "2. The encoder is `fit` to the unique string values of the feature. \n",
        "3. The `transformation` method then applies the numeric encoding to the original feature. \n",
        "\n",
        "Execute the code in the cell below and examine the result. "
      ]
    },
    {
      "cell_type": "code",
      "execution_count": null,
      "metadata": {
        "id": "FCquvdx1QTiQ"
      },
      "outputs": [],
      "source": [
        "ordinal_labels = {'high':3, 'medium':2, 'low':1}"
      ]
    },
    {
      "cell_type": "code",
      "execution_count": 17,
      "metadata": {
        "colab": {
          "base_uri": "https://localhost:8080/"
        },
        "id": "3ziZ1zS5x2g3",
        "outputId": "981ba4f7-d886-404d-dd35-af2c36474b68",
        "scrolled": false
      },
      "outputs": [
        {
          "name": "stdout",
          "output_type": "stream",
          "text": [
            "['hardtop_convert' 'hatchback' 'sedan' 'wagon']\n",
            "[0 0 1 2 2 2 2 3 2 2 2 2 2 2 2 2 2 1 1 2 1 1 1 1 2 2 2 3 1 1 1 1 1 1 2 3 1\n",
            " 1 2 2 2 2 2 1 2 2 2 1 1 1 2 2 1 2 1 2 2 1 2 2 2 3 0 2 2 0 2 0 1 1 1 1 1 1\n",
            " 1 1 1 1 2 2 2 2 2 2 2 2 3 2 1 2 3 0 1 2 2 3 2 1 1 1 2 2 3 3 2 2 3 3 2 2 2\n",
            " 1 1 1 2 2 3 1 1 0 0 0 1 2 1 2 1 2 1 1 1 2 2 2 2 2 3 3 3 3 1 1 1 3 3 3 2 1\n",
            " 2 1 2 1 2 2 1 2 1 0 0 1 0 1 0 2 2 1 2 1 1 1 2 3 2 2 2 2 2 2 2 0 1 2 2 3 2\n",
            " 3 2 3 2 3 2 2 2 2 2]\n"
          ]
        }
      ],
      "source": [
        "print(df['body_style'].unique())\n",
        "Features = df['body_style']\n",
        "enc = preprocessing.LabelEncoder()\n",
        "enc.fit(Features)\n",
        "Features = enc.transform(Features)\n",
        "print(Features)"
      ]
    },
    {
      "attachments": {},
      "cell_type": "markdown",
      "metadata": {
        "id": "CwHkMG0Mx2g3"
      },
      "source": [
        "For the next step in the process, the numerically coded categorical variable is converted to a set of dummy variables following these steps:\n",
        "1. A one hot encoder object is created using the `OneHotEncoder` method from the `sklearn.preprocessing` module.\n",
        "2. The numerically coded categorical feature is fit with the one hot encoder. \n",
        "3. The dummy variables are encoded using the `transform` method on the encodings.\n",
        "\n",
        "Execute the code in the cell below and examine the result. "
      ]
    },
    {
      "cell_type": "code",
      "execution_count": 18,
      "metadata": {
        "colab": {
          "base_uri": "https://localhost:8080/"
        },
        "id": "kV7ZgDcQ8fNg",
        "outputId": "2ac7a19d-0339-42f4-9e8d-f16aec6d2fb0"
      },
      "outputs": [
        {
          "name": "stdout",
          "output_type": "stream",
          "text": [
            "(195,)\n",
            "[0 0 1 2 2]\n"
          ]
        }
      ],
      "source": [
        "print(Features.shape)\n",
        "print(Features[:5])"
      ]
    },
    {
      "cell_type": "code",
      "execution_count": 19,
      "metadata": {
        "colab": {
          "base_uri": "https://localhost:8080/"
        },
        "id": "xH4PISfW9eG_",
        "outputId": "a5db1318-9f7e-4c20-c429-56d83bb47659"
      },
      "outputs": [
        {
          "name": "stdout",
          "output_type": "stream",
          "text": [
            "(195, 1)\n",
            "[[0]\n",
            " [0]\n",
            " [1]\n",
            " [2]\n",
            " [2]]\n"
          ]
        }
      ],
      "source": [
        "Features = Features.reshape(-1,1)\n",
        "print(Features.shape)\n",
        "print(Features[:5])"
      ]
    },
    {
      "cell_type": "code",
      "execution_count": 20,
      "metadata": {
        "colab": {
          "base_uri": "https://localhost:8080/"
        },
        "id": "Kc_neAHkx2g4",
        "outputId": "8c01e8cd-268f-4e65-8eea-2e67aa41c0e0",
        "scrolled": true
      },
      "outputs": [
        {
          "name": "stdout",
          "output_type": "stream",
          "text": [
            "[[1. 0. 0. 0.]\n",
            " [1. 0. 0. 0.]\n",
            " [0. 1. 0. 0.]\n",
            " [0. 0. 1. 0.]\n",
            " [0. 0. 1. 0.]\n",
            " [0. 0. 1. 0.]\n",
            " [0. 0. 1. 0.]\n",
            " [0. 0. 0. 1.]\n",
            " [0. 0. 1. 0.]\n",
            " [0. 0. 1. 0.]]\n"
          ]
        }
      ],
      "source": [
        "ohe = preprocessing.OneHotEncoder()\n",
        "encoded = ohe.fit(Features)\n",
        "oheFeatures = encoded.transform(Features).toarray()\n",
        "print(oheFeatures[:10, :])"
      ]
    },
    {
      "cell_type": "code",
      "execution_count": 21,
      "metadata": {
        "colab": {
          "base_uri": "https://localhost:8080/"
        },
        "id": "kfY248OqT5hI",
        "outputId": "0697b115-2878-438c-97a5-70972716e468"
      },
      "outputs": [
        {
          "data": {
            "text/plain": [
              "array([[1., 0., 0.],\n",
              "       [1., 0., 0.],\n",
              "       [0., 1., 0.],\n",
              "       [0., 0., 1.],\n",
              "       [0., 0., 1.]])"
            ]
          },
          "execution_count": 21,
          "metadata": {},
          "output_type": "execute_result"
        }
      ],
      "source": [
        "#multi dimension slicing for example only\n",
        "oheFeatures[:5, :3]"
      ]
    },
    {
      "cell_type": "markdown",
      "metadata": {
        "id": "PTfrDQIMx2g4"
      },
      "source": [
        "Notice that the `body_style` feature has been encoded as five columns. Each of these columns is a dummy variable representing one category. Each row has one and only one dummy variable with a 1, and the rest 0s. This is the one hot encoding. \n",
        "\n",
        "Now, you need to one hot encode all five categorical variables and append them as columns to the model matrix with the scaled numeric variables. The code in the cell below executes a `for` loop that calls the `encode_string` function and uses the numpy `concatenate` function to add the dummy variables to the model matrix. The `encode_string` function uses the same process discussed above. \n",
        "\n",
        "Execute this code, verify the result, and answer **Question 1** on the course page."
      ]
    },
    {
      "cell_type": "code",
      "execution_count": 22,
      "metadata": {
        "id": "lHp5kU6Ex2g4",
        "scrolled": true
      },
      "outputs": [],
      "source": [
        "def encode_string(cat_feature):\n",
        "    ## First encode the strings to numeric categories\n",
        "    enc = preprocessing.LabelEncoder()\n",
        "    enc.fit(cat_feature)\n",
        "    enc_cat_feature = enc.transform(cat_feature)\n",
        "    ## Now, apply one hot encoding\n",
        "    ohe = preprocessing.OneHotEncoder()\n",
        "    encoded = ohe.fit(enc_cat_feature.reshape(-1,1))\n",
        "    oheFeatures = encoded.transform(enc_cat_feature.reshape(-1,1)).toarray()\n",
        "    return oheFeatures\n",
        "  "
      ]
    },
    {
      "cell_type": "code",
      "execution_count": 23,
      "metadata": {
        "colab": {
          "base_uri": "https://localhost:8080/"
        },
        "id": "CX3opzUfA9jV",
        "outputId": "4a197a17-ed1d-4ede-9e5d-ddae144c42ff"
      },
      "outputs": [
        {
          "name": "stdout",
          "output_type": "stream",
          "text": [
            "['gas' 'diesel']\n",
            "['std' 'turbo']\n",
            "['rwd' 'fwd' '4wd']\n",
            "['three_four' 'five_six' 'eight_twelve']\n",
            "(195, 7)\n",
            "[[1. 0. 0. 0. 0. 0. 1.]\n",
            " [1. 0. 0. 0. 0. 0. 1.]]\n"
          ]
        }
      ],
      "source": [
        "categorical_columns = ['fuel_type', 'aspiration', 'drive_wheels', 'num_of_cylinders']\n",
        "\n",
        "for col in categorical_columns:\n",
        "    print(df[col].unique())\n",
        "    temp = encode_string(df[col])\n",
        "    Features = np.concatenate([oheFeatures, temp], axis = 1)\n",
        "\n",
        "print(Features.shape)\n",
        "print(Features[:2, :])    "
      ]
    },
    {
      "cell_type": "markdown",
      "metadata": {
        "id": "IJ8YiYDSx2g5"
      },
      "source": [
        "Notice that the model matrix now has 14 features which encode the five origianalcategorical features. "
      ]
    },
    {
      "cell_type": "markdown",
      "metadata": {
        "id": "3AVdcsRcx2g6"
      },
      "source": [
        "### Add the numeric features\n",
        "\n",
        "To complete the model matrix, execute the code in the cell below to concatenate the three numeric features."
      ]
    },
    {
      "cell_type": "code",
      "execution_count": 24,
      "metadata": {
        "colab": {
          "base_uri": "https://localhost:8080/"
        },
        "id": "vNwmReoox2g6",
        "outputId": "0a99eb15-a901-4a4f-d5b3-6f60e48ccc9d"
      },
      "outputs": [
        {
          "data": {
            "text/plain": [
              "array([[1.000e+00, 0.000e+00, 0.000e+00, 0.000e+00, 0.000e+00, 0.000e+00,\n",
              "        1.000e+00, 2.548e+03, 1.110e+02, 2.100e+01],\n",
              "       [1.000e+00, 0.000e+00, 0.000e+00, 0.000e+00, 0.000e+00, 0.000e+00,\n",
              "        1.000e+00, 2.548e+03, 1.110e+02, 2.100e+01]])"
            ]
          },
          "execution_count": 24,
          "metadata": {},
          "output_type": "execute_result"
        }
      ],
      "source": [
        "Features = np.concatenate([Features, np.array(df[['curb_weight', 'horsepower', 'city_mpg']])], axis = 1)\n",
        "Features[:2,:]"
      ]
    },
    {
      "cell_type": "markdown",
      "metadata": {
        "id": "YXS4RlZux2g6"
      },
      "source": [
        "There are now 17 features, 14 dummy variables and 3 numeric features. "
      ]
    },
    {
      "cell_type": "markdown",
      "metadata": {
        "id": "0dH3tTg-x2g6"
      },
      "source": [
        "## Split the dataset\n",
        "\n",
        "With the model matrix constructed, you must now create randomly sampled training and test data sets. The code in the cell below uses the `train_test_split` function from the `sklearn.model_selection` module to Bernoulli sample the cases in the original dataset into the two subsets. Since this data set is small only 40 cases will be included in the test dataset. Execute this code. "
      ]
    },
    {
      "cell_type": "code",
      "execution_count": 25,
      "metadata": {
        "id": "DKbVzvBQx2g7"
      },
      "outputs": [],
      "source": [
        "## Randomly sample cases to create independent training and test data\n",
        "labels = np.array(df['price'])\n",
        "x_train,x_test,y_train,y_test = ms.train_test_split(Features, labels)"
      ]
    },
    {
      "cell_type": "code",
      "execution_count": 26,
      "metadata": {
        "colab": {
          "base_uri": "https://localhost:8080/"
        },
        "id": "WA4LBcvtacM2",
        "outputId": "2b2ad857-e9f6-4ba5-d1a3-5eb828b2a221"
      },
      "outputs": [
        {
          "name": "stdout",
          "output_type": "stream",
          "text": [
            "(146, 10)\n",
            "(49, 10)\n"
          ]
        }
      ],
      "source": [
        "print(x_train.shape)\n",
        "print(x_test.shape)"
      ]
    },
    {
      "attachments": {},
      "cell_type": "markdown",
      "metadata": {
        "id": "jXb8tpOdx2g7"
      },
      "source": [
        "### Rescale numeric features"
      ]
    },
    {
      "cell_type": "code",
      "execution_count": 27,
      "metadata": {
        "colab": {
          "base_uri": "https://localhost:8080/"
        },
        "id": "3SF8kPGUx2g7",
        "outputId": "93d94a95-93db-4a98-e903-5803d8be38dc"
      },
      "outputs": [
        {
          "name": "stdout",
          "output_type": "stream",
          "text": [
            "(146, 10)\n"
          ]
        },
        {
          "data": {
            "text/plain": [
              "array([[-0.27116307,  1.47441956, -0.98639392, -0.375     , -0.14484136,\n",
              "        -0.46547467,  0.49785866, -1.18716094, -0.68939239,  0.74490988],\n",
              "       [-0.27116307, -0.678233  , -0.98639392,  2.66666667, -0.14484136,\n",
              "        -0.46547467,  0.49785866,  0.92072239,  0.28880428, -0.38629056],\n",
              "       [-0.27116307, -0.678233  , -0.98639392,  2.66666667, -0.14484136,\n",
              "        -0.46547467,  0.49785866, -0.53406908, -0.53494028,  0.42170975],\n",
              "       [-0.27116307, -0.678233  ,  1.01379376, -0.375     , -0.14484136,\n",
              "        -0.46547467,  0.49785866, -1.19889313, -0.89532853,  0.90650994],\n",
              "       [-0.27116307,  1.47441956, -0.98639392, -0.375     , -0.14484136,\n",
              "        -0.46547467,  0.49785866, -0.27009482, -0.48345625,  0.09850963]])"
            ]
          },
          "execution_count": 27,
          "metadata": {},
          "output_type": "execute_result"
        }
      ],
      "source": [
        "scaler = preprocessing.StandardScaler().fit(x_train)\n",
        "x_train = scaler.transform(x_train)\n",
        "x_test = scaler.transform(x_test)\n",
        "print(x_train.shape)\n",
        "x_train[:5,:]"
      ]
    },
    {
      "cell_type": "markdown",
      "metadata": {
        "id": "zygE30fpx2g8"
      },
      "source": [
        "You can see that the numeric features have been rescaled are required. "
      ]
    },
    {
      "attachments": {},
      "cell_type": "markdown",
      "metadata": {
        "id": "2A5DpkfQx2g8"
      },
      "source": [
        "## Construct the linear regression model"
      ]
    },
    {
      "cell_type": "code",
      "execution_count": 28,
      "metadata": {
        "colab": {
          "base_uri": "https://localhost:8080/"
        },
        "id": "EbW78pjNx2g8",
        "outputId": "a857a23c-21f5-4cb9-f011-7567a8814729"
      },
      "outputs": [
        {
          "data": {
            "text/plain": [
              "LinearRegression(fit_intercept=False)"
            ]
          },
          "execution_count": 28,
          "metadata": {},
          "output_type": "execute_result"
        }
      ],
      "source": [
        "## define and fit the linear regression model\n",
        "lin_mod = linear_model.LinearRegression(fit_intercept = False)\n",
        "lin_mod.fit(x_train, y_train)"
      ]
    },
    {
      "cell_type": "code",
      "execution_count": 29,
      "metadata": {
        "colab": {
          "base_uri": "https://localhost:8080/"
        },
        "id": "4VZxtwgUx2g9",
        "outputId": "e2c9e6c6-06f5-472a-84ec-d774a959b774"
      },
      "outputs": [
        {
          "name": "stdout",
          "output_type": "stream",
          "text": [
            "0.0\n",
            "[ 1263.68262245  -519.07085196   270.61658582  -648.96607467\n",
            "  1382.76155551   648.04021098 -1113.10466217  3543.62088606\n",
            "  2241.75105699   601.08423686]\n"
          ]
        }
      ],
      "source": [
        "print(lin_mod.intercept_)\n",
        "print(lin_mod.coef_)"
      ]
    },
    {
      "cell_type": "markdown",
      "metadata": {
        "id": "W6O-1RUOx2g9"
      },
      "source": [
        "As expected, the intercept term is `0.0`. Roughly speaking, you can interpret the coefficients of the model as follows:  \n",
        "1. The price of autos increases with weight (first coefficient), horsepower (second coefficient) and weakly decreases with fuel efficiency (third coefficient). \n",
        "2. The coefficients for the dummy variables are in a similar range, indicating the bias or intercept has been incorporated in these. "
      ]
    },
    {
      "cell_type": "markdown",
      "metadata": {
        "id": "p-c7soOux2g9"
      },
      "source": [
        "## Evaluate the model\n",
        "\n",
        "You will now use the test dataset to evaluate the performance of the regression model. As a first step, execute the code in the cell below to compute and display various performance metrics and examine the results. Then, answer **Question 2** on the course page."
      ]
    },
    {
      "cell_type": "code",
      "execution_count": 30,
      "metadata": {
        "colab": {
          "base_uri": "https://localhost:8080/"
        },
        "id": "6V7FnAjTx2g-",
        "outputId": "57c00bcf-d89f-4ac7-bec4-19ebdeaadd93"
      },
      "outputs": [
        {
          "name": "stdout",
          "output_type": "stream",
          "text": [
            "Mean Square Error      = 177184358.96845946\n",
            "Root Mean Square Error = 13311.061526732548\n",
            "Mean Absolute Error    = 12930.23052456211\n",
            "Median Absolute Error  = 13007.718703442228\n",
            "R^2                    = -1.8670012314011637\n",
            "Adjusted R^2           = -5.553145671774089\n"
          ]
        }
      ],
      "source": [
        "def print_metrics(y_true, y_predicted, n_parameters):\n",
        "    ## First compute R^2 and the adjusted R^2\n",
        "    r2 = sklm.r2_score(y_true, y_predicted)\n",
        "    r2_adj = r2 - (n_parameters - 1)/(y_true.shape[0] - n_parameters) * (1 - r2)\n",
        "    \n",
        "    ## Print the usual metrics and the R^2 values\n",
        "    print('Mean Square Error      = ' + str(sklm.mean_squared_error(y_true, y_predicted)))\n",
        "    print('Root Mean Square Error = ' + str(math.sqrt(sklm.mean_squared_error(y_true, y_predicted))))\n",
        "    print('Mean Absolute Error    = ' + str(sklm.mean_absolute_error(y_true, y_predicted)))\n",
        "    print('Median Absolute Error  = ' + str(sklm.median_absolute_error(y_true, y_predicted)))\n",
        "    print('R^2                    = ' + str(r2))\n",
        "    print('Adjusted R^2           = ' + str(r2_adj))\n",
        "   \n",
        "y_score = lin_mod.predict(x_test) \n",
        "print_metrics(y_test, y_score, 28)    "
      ]
    },
    {
      "cell_type": "markdown",
      "metadata": {
        "id": "43IHlM_Cx2g-"
      },
      "source": [
        "At first glance, these metrics look promising. The RMSE, MAE and median absolute error are all small and in a similar range. However, notice that the $R^2$ and $R^2_{adj}$ are rather different. This model has a large number of parameters compared to the number of cases available. This result indicates that the model may be overfit and might not generalize well. \n",
        "\n",
        "To continue the evaluation of the model performance, execute the code in the cell below to display a histogram of the residuals. "
      ]
    },
    {
      "cell_type": "code",
      "execution_count": 31,
      "metadata": {
        "colab": {
          "base_uri": "https://localhost:8080/",
          "height": 351
        },
        "id": "TXFJe23Zx2g-",
        "outputId": "921529f1-70ea-4a48-a5ef-5fd83012db77"
      },
      "outputs": [
        {
          "name": "stderr",
          "output_type": "stream",
          "text": [
            "/usr/local/lib/python3.8/dist-packages/seaborn/distributions.py:2619: FutureWarning: `distplot` is a deprecated function and will be removed in a future version. Please adapt your code to use either `displot` (a figure-level function with similar flexibility) or `histplot` (an axes-level function for histograms).\n",
            "  warnings.warn(msg, FutureWarning)\n"
          ]
        },
        {
          "data": {
            "image/png": "[encoded data removed]",
            "text/plain": [
              "<Figure size 432x288 with 1 Axes>"
            ]
          },
          "metadata": {
            "needs_background": "light"
          },
          "output_type": "display_data"
        }
      ],
      "source": [
        "def hist_resids(y_test, y_score):\n",
        "    ## first compute vector of residuals. \n",
        "    resids = np.subtract(y_test.reshape(-1,1), y_score.reshape(-1,1))\n",
        "    ## now make the residual plots\n",
        "    sns.distplot(resids)\n",
        "    plt.title('Histogram of residuals')\n",
        "    plt.xlabel('Residual value')\n",
        "    plt.ylabel('count')\n",
        "    \n",
        "hist_resids(y_test, y_score)    "
      ]
    },
    {
      "cell_type": "markdown",
      "metadata": {
        "id": "QIw_f3APx2g-"
      },
      "source": [
        "This histogram shows that the residuals are in a small range. However, there is some noticeable skew in the distribution. \n",
        "\n",
        "Next, execute the code in the cell below to display the Q-Q Normal plot. "
      ]
    },
    {
      "cell_type": "code",
      "execution_count": 32,
      "metadata": {
        "colab": {
          "base_uri": "https://localhost:8080/",
          "height": 295
        },
        "id": "p_OO-EyMx2g_",
        "outputId": "eb59c67e-257d-4cb5-a7b7-bd48d644504f"
      },
      "outputs": [
        {
          "data": {
            "image/png": "[encoded data removed]",
            "text/plain": [
              "<Figure size 432x288 with 1 Axes>"
            ]
          },
          "metadata": {
            "needs_background": "light"
          },
          "output_type": "display_data"
        }
      ],
      "source": [
        "def resid_qq(y_test, y_score):\n",
        "    ## first compute vector of residuals. \n",
        "    resids = np.subtract(y_test.reshape(-1,1), y_score.reshape(-1,1))\n",
        "    ## now make the residual plots\n",
        "    ss.probplot(resids.flatten(), plot = plt)\n",
        "    plt.title('Residuals vs. predicted values')\n",
        "    plt.xlabel('Predicted values')\n",
        "    plt.ylabel('Residual')\n",
        "    \n",
        "resid_qq(y_test, y_score)   "
      ]
    },
    {
      "cell_type": "markdown",
      "metadata": {
        "id": "UWh0XSlXx2g_"
      },
      "source": [
        "As with the histogram, the Q-Q Normal plot indicates the residuals are close to Normally distributed, show some skew (deviation from the straight line). This is particularly for large residuals. \n",
        "\n",
        "There is one more diagnostic plot. Execute the code in the cell below to display the plot of residuals vs. predicted values. "
      ]
    },
    {
      "cell_type": "code",
      "execution_count": 33,
      "metadata": {
        "colab": {
          "base_uri": "https://localhost:8080/",
          "height": 351
        },
        "id": "UEhFDrdQx2g_",
        "outputId": "d6ddca80-b8e2-4212-a77d-f6855830a2e6"
      },
      "outputs": [
        {
          "name": "stderr",
          "output_type": "stream",
          "text": [
            "/usr/local/lib/python3.8/dist-packages/seaborn/_decorators.py:36: FutureWarning: Pass the following variables as keyword args: x, y. From version 0.12, the only valid positional argument will be `data`, and passing other arguments without an explicit keyword will result in an error or misinterpretation.\n",
            "  warnings.warn(\n"
          ]
        },
        {
          "data": {
            "image/png": "[encoded data removed]",
            "text/plain": [
              "<Figure size 432x288 with 1 Axes>"
            ]
          },
          "metadata": {
            "needs_background": "light"
          },
          "output_type": "display_data"
        }
      ],
      "source": [
        "def resid_plot(y_test, y_score):\n",
        "    ## first compute vector of residuals. \n",
        "    resids = np.subtract(y_test.reshape(-1,1), y_score.reshape(-1,1))\n",
        "    ## now make the residual plots\n",
        "    sns.regplot(y_score, resids, fit_reg=False)\n",
        "    plt.title('Residuals vs. predicted values')\n",
        "    plt.xlabel('Predicted values')\n",
        "    plt.ylabel('Residual')\n",
        "\n",
        "resid_plot(y_test, y_score) "
      ]
    },
    {
      "attachments": {},
      "cell_type": "markdown",
      "metadata": {
        "id": "6XLCWI6Mx2g_"
      },
      "source": [
        "This plot looks reasonable. The residual values appear to have a fairly constant dispersion as the predicted value changes. A few large residuals are noticeable, particularly on the positive side. "
      ]
    },
    {
      "cell_type": "code",
      "execution_count": 35,
      "metadata": {
        "id": "qdIQF0pHx2hA"
      },
      "outputs": [],
      "source": [
        "y_score_untransform = np.exp(y_score)\n",
        "y_test_untransform = np.exp(y_test)\n",
        "resid_plot(y_test_untransform, y_score_untransform) "
      ]
    },
    {
      "cell_type": "markdown",
      "metadata": {
        "id": "SqoDlRvux2hA"
      },
      "source": [
        "Notice that the untransformed residuals show a definite trend. The dispersion of the residuals has a cone-like pattern increasing to the right. The regression model seems to do a good job of predicting the price of low cost cars, but becomes progressively worse as the price of the car increases. "
      ]
    },
    {
      "cell_type": "markdown",
      "metadata": {
        "id": "9zySPCAnx2hA"
      },
      "source": [
        "## Summary\n",
        "\n",
        "1. Transformed the label value to make it more symmetric and closer to a Normal distribution.\n",
        "2. Aggregated categories of a categorical variable to improve the statistical representation. \n",
        "3. Scaled the numeric features. \n",
        "4. Recoded the categorical features as binary dummy variables. \n",
        "5. Fit the linear regression model using scikit-learn. \n",
        "6. Evaluated the performance of the model using both numeric and graphical methods. \n",
        "\n",
        "It is clear from the outcome of the performance evaluation that this model needs to be improved. As it is, the model shows poor generalization. "
      ]
    },
    {
      "cell_type": "code",
      "execution_count": null,
      "metadata": {
        "id": "w910YRR_x2hA"
      },
      "outputs": [],
      "source": []
    }
  ],
  "metadata": {
    "anaconda-cloud": {},
    "colab": {
      "provenance": []
    },
    "kernelspec": {
      "display_name": "Python 3",
      "language": "python",
      "name": "python3"
    },
    "language_info": {
      "codemirror_mode": {
        "name": "ipython",
        "version": 3
      },
      "file_extension": ".py",
      "mimetype": "text/x-python",
      "name": "python",
      "nbconvert_exporter": "python",
      "pygments_lexer": "ipython3",
      "version": "3.6.4"
    }
  },
  "nbformat": 4,
  "nbformat_minor": 0
}
